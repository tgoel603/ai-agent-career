{
  "nbformat": 4,
  "nbformat_minor": 0,
  "metadata": {
    "colab": {
      "provenance": []
    },
    "kernelspec": {
      "name": "python3",
      "display_name": "Python 3"
    },
    "language_info": {
      "name": "python"
    }
  },
  "cells": [
    {
      "cell_type": "markdown",
      "source": [
        "**install libraries**\n"
      ],
      "metadata": {
        "id": "CJCXJWRZeb2g"
      }
    },
    {
      "cell_type": "code",
      "execution_count": null,
      "metadata": {
        "id": "oWY8LY-ZeAst",
        "colab": {
          "base_uri": "https://localhost:8080/"
        },
        "outputId": "65a2df92-7ca8-4b13-d93b-dbfc78dbb0c3"
      },
      "outputs": [
        {
          "output_type": "stream",
          "name": "stdout",
          "text": [
            "\u001b[2K     \u001b[90m━━━━━━━━━━━━━━━━━━━━━━━━━━━━━━━━━━━━━━━━\u001b[0m \u001b[32m43.7/43.7 kB\u001b[0m \u001b[31m3.0 MB/s\u001b[0m eta \u001b[36m0:00:00\u001b[0m\n",
            "\u001b[2K   \u001b[90m━━━━━━━━━━━━━━━━━━━━━━━━━━━━━━━━━━━━━━━━\u001b[0m \u001b[32m152.5/152.5 kB\u001b[0m \u001b[31m5.5 MB/s\u001b[0m eta \u001b[36m0:00:00\u001b[0m\n",
            "\u001b[2K   \u001b[90m━━━━━━━━━━━━━━━━━━━━━━━━━━━━━━━━━━━━━━━━\u001b[0m \u001b[32m43.9/43.9 kB\u001b[0m \u001b[31m3.0 MB/s\u001b[0m eta \u001b[36m0:00:00\u001b[0m\n",
            "\u001b[2K   \u001b[90m━━━━━━━━━━━━━━━━━━━━━━━━━━━━━━━━━━━━━━━━\u001b[0m \u001b[32m50.6/50.6 kB\u001b[0m \u001b[31m3.9 MB/s\u001b[0m eta \u001b[36m0:00:00\u001b[0m\n",
            "\u001b[2K   \u001b[90m━━━━━━━━━━━━━━━━━━━━━━━━━━━━━━━━━━━━━━━━\u001b[0m \u001b[32m216.5/216.5 kB\u001b[0m \u001b[31m15.6 MB/s\u001b[0m eta \u001b[36m0:00:00\u001b[0m\n",
            "\u001b[?25h"
          ]
        }
      ],
      "source": [
        "!pip install -q langgraph google-generativeai python-dotenv"
      ]
    },
    {
      "cell_type": "markdown",
      "source": [
        "**Gemini models**"
      ],
      "metadata": {
        "id": "W7OPu2pvx9fd"
      }
    },
    {
      "cell_type": "markdown",
      "source": [
        "**set up the gemini API**"
      ],
      "metadata": {
        "id": "HF8uLujLfjv4"
      }
    },
    {
      "cell_type": "code",
      "source": [
        "import google.generativeai as genai\n",
        "from google.colab import userdata\n",
        "\n",
        "GOOGLE_API_KEY=userdata.get('GOOGLE_API_KEY')\n",
        "genai.configure(api_key=GOOGLE_API_KEY)\n",
        "model = genai.GenerativeModel('gemini-1.5-flash-latest')"
      ],
      "metadata": {
        "id": "9PFQBH06fjZR"
      },
      "execution_count": null,
      "outputs": []
    },
    {
      "cell_type": "markdown",
      "source": [
        "**define langgraph nodes (CAREER COUNSELLING FLOW)**"
      ],
      "metadata": {
        "id": "UMXWUEC5hjUB"
      }
    },
    {
      "cell_type": "code",
      "source": [
        "from langgraph.graph import StateGraph, END\n",
        "from typing import TypedDict, Annotated\n",
        "from uuid import uuid4\n",
        "\n",
        "class AgentState(TypedDict):\n",
        "  user_input: str\n",
        "  interests: str\n",
        "  personality: str\n",
        "  careers: str\n",
        "  resources: str"
      ],
      "metadata": {
        "id": "WBHWjtb1h2JI"
      },
      "execution_count": null,
      "outputs": []
    },
    {
      "cell_type": "markdown",
      "source": [
        "**Create  node**"
      ],
      "metadata": {
        "id": "OBlXL-EVjgT3"
      }
    },
    {
      "cell_type": "code",
      "source": [
        "def extract_interests(state):\n",
        "  prompt = f\"from this input , extract the user's interests or traits: {state['user_input']}\"\n",
        "  print(f\"Prompt for extract_interests: {prompt}\")\n",
        "  response = model.generate_content(prompt)\n",
        "  print(f\"Response from extract_interests: {response}\")\n",
        "  if response is not None and hasattr(response, 'text'):\n",
        "    state['interests'] = response.text\n",
        "  else:\n",
        "    state['interests'] = \"Could not extract interests. Please try again.\"\n",
        "  return state\n",
        "\n",
        "def analyze_personality(state):\n",
        "  if state['interests'] == \"Could not extract interests. Please try again.\":\n",
        "    state['personality'] = \"Cannot analyze personality due to previous error.\"\n",
        "    return state\n",
        "\n",
        "  prompt = f\"based on these interest , describe the personality traits: {state['interests']}\"\n",
        "  print(f\"Prompt for analyze_personality: {prompt}\")\n",
        "  response = model.generate_content(prompt)\n",
        "  print(f\"Response from analyze_personality: {response}\")\n",
        "  if response is not None and hasattr(response, 'text'):\n",
        "    state['personality'] = response.text\n",
        "  else:\n",
        "    state['personality'] = \"Could not analyze personality.\"\n",
        "  return state\n",
        "\n",
        "def suggest_careers(state):\n",
        "  if state['personality'] == \"Could not analyze personality.\" or \\\n",
        "     state['personality'] == \"Cannot analyze personality due to previous error.\":\n",
        "    state['careers'] = \"Cannot suggest careers due to previous error.\"\n",
        "    return state\n",
        "\n",
        "  prompt = f\"suggest 3 career options for someone with this traits:  {state['personality']}\"\n",
        "  print(f\"Prompt for suggest_careers: {prompt}\")\n",
        "  response = model.generate_content(prompt)\n",
        "  print(f\"Response from suggest_careers: {response}\")\n",
        "  if response is not None and hasattr(response, 'text'):\n",
        "    state['careers'] = response.text\n",
        "  else:\n",
        "    state['careers'] = \"Could not suggest careers.\"\n",
        "  return state\n",
        "\n",
        "def reommend_resources(state):\n",
        "  if state['careers'] == \"Could not suggest careers.\" or \\\n",
        "     state['careers'] == \"Cannot recommend resources due to previous error.\":\n",
        "    state['resources'] = \"Cannot recommend resources due to previous error.\"\n",
        "    return state\n",
        "\n",
        "  prompt = f\"recommend learning resources(courses/videos) for:  {state['careers']}\"\n",
        "  print(f\"Prompt for reommend_resources: {prompt}\")\n",
        "  response = model.generate_content(prompt)\n",
        "  print(f\"Response from reommend_resources: {response}\")\n",
        "  if response is not None and hasattr(response, 'text'):\n",
        "    state['resources'] = response.text\n",
        "  else:\n",
        "    state['resources'] = \"Could not recommend resources.\"\n",
        "  return state"
      ],
      "metadata": {
        "id": "f-wBHhxYjf6Z"
      },
      "execution_count": null,
      "outputs": []
    },
    {
      "cell_type": "markdown",
      "source": [
        "**conect nodes using langgraph**"
      ],
      "metadata": {
        "id": "K7YIWH2GmUN5"
      }
    },
    {
      "cell_type": "code",
      "source": [
        "graph_builder = StateGraph(AgentState)\n",
        "\n",
        "graph_builder.add_node(\"extract interests\", extract_interests)\n",
        "graph_builder.add_node(\"analyze personality\", analyze_personality)\n",
        "graph_builder.add_node(\"suggest careers\", suggest_careers)\n",
        "graph_builder.add_node(\"recommend resources\", reommend_resources)\n",
        "\n",
        "graph_builder.set_entry_point(\"extract interests\")\n",
        "graph_builder.add_edge(\"extract interests\", \"analyze personality\")\n",
        "graph_builder.add_edge(\"analyze personality\", \"suggest careers\")\n",
        "graph_builder.add_edge(\"suggest careers\", \"recommend resources\")\n",
        "graph_builder.set_finish_point(\"recommend resources\")\n",
        "\n",
        "graph = graph_builder.compile()"
      ],
      "metadata": {
        "id": "ALdozmxcmjl3"
      },
      "execution_count": null,
      "outputs": []
    },
    {
      "cell_type": "markdown",
      "source": [
        "**Run your agent**"
      ],
      "metadata": {
        "id": "PsiaYn_noXUI"
      }
    },
    {
      "cell_type": "code",
      "source": [
        "user_text = input(\"tell me about your interests an strengths: \")\n",
        "user_input_data ={\n",
        "    \"user_input\": user_text,\n",
        "    \"interests\": \"\",\n",
        "    \"personality\" : \"\",\n",
        "    \"careers\": \"\",\n",
        "    \"resources\": \"\"\n",
        "}\n",
        "\n",
        "# Make sure to run the cell above that defines 'graph' before running this cell.\n",
        "final_state = None\n",
        "for output in graph.stream(user_input_data):\n",
        "    final_state = output # Keep track of the last output\n",
        "\n",
        "if final_state and final_state.get('interests') == \"Could not extract interests. Please try again.\":\n",
        "    print(\"\\nCareer counselling could not be completed based on your input. Please try again with a different description of your interests and strengths.\")\n",
        "elif final_state:\n",
        "    print(\"\\n--- Career Counselling Results ---\")\n",
        "    print(f\"\\nINTERESTS:\\n{final_state.get('interests', 'N/A')}\")\n",
        "    print(f\"\\nPERSONALITY:\\n{final_state.get('personality', 'N/A')}\")\n",
        "    print(f\"\\nCAREERS:\\n{final_state.get('careers', 'N/A')}\")\n",
        "    print(f\"\\nRESOURCES:\\n{final_state.get('resources', 'N/A')}\")\n",
        "else:\n",
        "    print(\"\\nAn unknown error occurred during the career counselling process.\")"
      ],
      "metadata": {
        "colab": {
          "base_uri": "https://localhost:8080/",
          "height": 1000
        },
        "id": "iftE_LKPorE3",
        "outputId": "0cbc20d0-0253-46d5-b26b-88bd3f1cd470"
      },
      "execution_count": null,
      "outputs": [
        {
          "output_type": "stream",
          "name": "stdout",
          "text": [
            "tell me about your interests an strengths: art and craft\n",
            "Prompt for extract_interests: from this input , extract the user's interests or traits: art and craft\n",
            "Response from extract_interests: response:\n",
            "GenerateContentResponse(\n",
            "    done=True,\n",
            "    iterator=None,\n",
            "    result=protos.GenerateContentResponse({\n",
            "      \"candidates\": [\n",
            "        {\n",
            "          \"content\": {\n",
            "            \"parts\": [\n",
            "              {\n",
            "                \"text\": \"The user's interest is in **art and craft**.\\n\"\n",
            "              }\n",
            "            ],\n",
            "            \"role\": \"model\"\n",
            "          },\n",
            "          \"finish_reason\": \"STOP\",\n",
            "          \"avg_logprobs\": -0.2927338160001315\n",
            "        }\n",
            "      ],\n",
            "      \"usage_metadata\": {\n",
            "        \"prompt_token_count\": 16,\n",
            "        \"candidates_token_count\": 13,\n",
            "        \"total_token_count\": 29\n",
            "      },\n",
            "      \"model_version\": \"gemini-1.5-flash-latest\"\n",
            "    }),\n",
            ")\n",
            "Prompt for analyze_personality: based on these interest , describe the personality traits: The user's interest is in **art and craft**.\n",
            "\n",
            "Response from analyze_personality: response:\n",
            "GenerateContentResponse(\n",
            "    done=True,\n",
            "    iterator=None,\n",
            "    result=protos.GenerateContentResponse({\n",
            "      \"candidates\": [\n",
            "        {\n",
            "          \"content\": {\n",
            "            \"parts\": [\n",
            "              {\n",
            "                \"text\": \"Someone with an interest in art and craft likely possesses a blend of personality traits, though the specific combination will vary from person to person.  However, some common traits include:\\n\\n* **Creativity:**  This is a fundamental trait.  Art and craft inherently involve generating new ideas and expressing them in tangible forms.\\n* **Imagination:**  The ability to visualize and conceptualize is crucial for success in these pursuits. They likely enjoy daydreaming and exploring different possibilities.\\n* **Patience:** Many art and craft projects require time, precision, and persistence to complete.  They are likely able to focus on a task for extended periods.\\n* **Dexterity/Fine Motor Skills:**  Depending on the specific crafts, a certain level of manual skill and hand-eye coordination is often necessary.\\n* **Detail-Oriented:**  While some art forms are more abstract, many require attention to detail and precision.\\n* **Aesthetic Appreciation:**  An interest in art and craft often indicates an appreciation for beauty, design, and visual appeal.\\n* **Problem-Solving Skills:**  Crafting often presents challenges that require creative problem-solving to overcome.  They are likely resourceful and adaptable.\\n* **Self-Expression:**  Art and craft provide a powerful outlet for self-expression and communication, suggesting a potential for emotional openness or a need for creative release.\\n* **Persistence/Resilience:**  Art and craft projects can be challenging.  Successfully completing them requires perseverance and the ability to bounce back from setbacks.\\n\\n\\nIt's important to note that these are potential traits, not definitive statements.  Someone interested in art and craft might not possess *all* of these qualities, and the degree to which they possess them will vary.\\n\"\n",
            "              }\n",
            "            ],\n",
            "            \"role\": \"model\"\n",
            "          },\n",
            "          \"finish_reason\": \"STOP\",\n",
            "          \"avg_logprobs\": -0.2888098247980667\n",
            "        }\n",
            "      ],\n",
            "      \"usage_metadata\": {\n",
            "        \"prompt_token_count\": 23,\n",
            "        \"candidates_token_count\": 354,\n",
            "        \"total_token_count\": 377\n",
            "      },\n",
            "      \"model_version\": \"gemini-1.5-flash-latest\"\n",
            "    }),\n",
            ")\n",
            "Prompt for suggest_careers: suggest 3 career options for someone with this traits:  Someone with an interest in art and craft likely possesses a blend of personality traits, though the specific combination will vary from person to person.  However, some common traits include:\n",
            "\n",
            "* **Creativity:**  This is a fundamental trait.  Art and craft inherently involve generating new ideas and expressing them in tangible forms.\n",
            "* **Imagination:**  The ability to visualize and conceptualize is crucial for success in these pursuits. They likely enjoy daydreaming and exploring different possibilities.\n",
            "* **Patience:** Many art and craft projects require time, precision, and persistence to complete.  They are likely able to focus on a task for extended periods.\n",
            "* **Dexterity/Fine Motor Skills:**  Depending on the specific crafts, a certain level of manual skill and hand-eye coordination is often necessary.\n",
            "* **Detail-Oriented:**  While some art forms are more abstract, many require attention to detail and precision.\n",
            "* **Aesthetic Appreciation:**  An interest in art and craft often indicates an appreciation for beauty, design, and visual appeal.\n",
            "* **Problem-Solving Skills:**  Crafting often presents challenges that require creative problem-solving to overcome.  They are likely resourceful and adaptable.\n",
            "* **Self-Expression:**  Art and craft provide a powerful outlet for self-expression and communication, suggesting a potential for emotional openness or a need for creative release.\n",
            "* **Persistence/Resilience:**  Art and craft projects can be challenging.  Successfully completing them requires perseverance and the ability to bounce back from setbacks.\n",
            "\n",
            "\n",
            "It's important to note that these are potential traits, not definitive statements.  Someone interested in art and craft might not possess *all* of these qualities, and the degree to which they possess them will vary.\n",
            "\n"
          ]
        },
        {
          "output_type": "stream",
          "name": "stderr",
          "text": [
            "ERROR:tornado.access:503 POST /v1beta/models/gemini-1.5-flash-latest:generateContent?%24alt=json%3Benum-encoding%3Dint (127.0.0.1) 3511.64ms\n"
          ]
        },
        {
          "output_type": "stream",
          "name": "stdout",
          "text": [
            "Response from suggest_careers: response:\n",
            "GenerateContentResponse(\n",
            "    done=True,\n",
            "    iterator=None,\n",
            "    result=protos.GenerateContentResponse({\n",
            "      \"candidates\": [\n",
            "        {\n",
            "          \"content\": {\n",
            "            \"parts\": [\n",
            "              {\n",
            "                \"text\": \"Based on the listed traits, here are three career options that would be a good fit for someone with an interest in art and craft:\\n\\n1. **Jewelry Designer/Maker:** This career perfectly blends creativity, imagination, dexterity, detail-orientation, and aesthetic appreciation.  The ability to problem-solve is crucial for overcoming technical challenges in design and construction.  Patience is essential for the meticulous work involved, and self-expression is readily channeled through unique designs.  Resilience is helpful for navigating the competitive aspects of the market.\\n\\n2. **Graphic Designer:**  While not strictly a \\\"craft,\\\" graphic design relies heavily on creativity, imagination, aesthetic appreciation, and problem-solving.  Strong visual skills and attention to detail are paramount.  Dexterity is less crucial than in some other art forms, but proficiency with design software is essential, demanding a level of patience and persistence to master.  Self-expression is a key element, and the ability to meet client needs effectively shows adaptability and resilience.\\n\\n3. **Art Therapist:** This career path uniquely utilizes the self-expression aspect of art and craft.  It requires patience, empathy, and strong problem-solving skills to help clients use art as a therapeutic tool.  While not requiring the same level of technical dexterity as other options, it values creativity, imagination, and the ability to build rapport and trust.  A strong aesthetic appreciation isn't necessarily essential but can enhance the therapeutic relationship.\\n\\n\\nThese are just three examples, and many other careers could be suitable depending on the individual's specific skills and interests within the broader field of art and craft.  The key is finding a path that utilizes their strengths and allows for creative expression.\\n\"\n",
            "              }\n",
            "            ],\n",
            "            \"role\": \"model\"\n",
            "          },\n",
            "          \"finish_reason\": \"STOP\",\n",
            "          \"avg_logprobs\": -0.39162354400192484\n",
            "        }\n",
            "      ],\n",
            "      \"usage_metadata\": {\n",
            "        \"prompt_token_count\": 366,\n",
            "        \"candidates_token_count\": 345,\n",
            "        \"total_token_count\": 711\n",
            "      },\n",
            "      \"model_version\": \"gemini-1.5-flash-latest\"\n",
            "    }),\n",
            ")\n",
            "Prompt for reommend_resources: recommend learning resources(courses/videos) for:  Based on the listed traits, here are three career options that would be a good fit for someone with an interest in art and craft:\n",
            "\n",
            "1. **Jewelry Designer/Maker:** This career perfectly blends creativity, imagination, dexterity, detail-orientation, and aesthetic appreciation.  The ability to problem-solve is crucial for overcoming technical challenges in design and construction.  Patience is essential for the meticulous work involved, and self-expression is readily channeled through unique designs.  Resilience is helpful for navigating the competitive aspects of the market.\n",
            "\n",
            "2. **Graphic Designer:**  While not strictly a \"craft,\" graphic design relies heavily on creativity, imagination, aesthetic appreciation, and problem-solving.  Strong visual skills and attention to detail are paramount.  Dexterity is less crucial than in some other art forms, but proficiency with design software is essential, demanding a level of patience and persistence to master.  Self-expression is a key element, and the ability to meet client needs effectively shows adaptability and resilience.\n",
            "\n",
            "3. **Art Therapist:** This career path uniquely utilizes the self-expression aspect of art and craft.  It requires patience, empathy, and strong problem-solving skills to help clients use art as a therapeutic tool.  While not requiring the same level of technical dexterity as other options, it values creativity, imagination, and the ability to build rapport and trust.  A strong aesthetic appreciation isn't necessarily essential but can enhance the therapeutic relationship.\n",
            "\n",
            "\n",
            "These are just three examples, and many other careers could be suitable depending on the individual's specific skills and interests within the broader field of art and craft.  The key is finding a path that utilizes their strengths and allows for creative expression.\n",
            "\n",
            "Response from reommend_resources: response:\n",
            "GenerateContentResponse(\n",
            "    done=True,\n",
            "    iterator=None,\n",
            "    result=protos.GenerateContentResponse({\n",
            "      \"candidates\": [\n",
            "        {\n",
            "          \"content\": {\n",
            "            \"parts\": [\n",
            "              {\n",
            "                \"text\": \"The learning resources needed will depend heavily on the chosen career path.  Here's a breakdown of learning resources categorized by career, understanding that many resources will overlap:\\n\\n**1. Jewelry Designer/Maker:**\\n\\n* **Online Courses:**\\n    * **Skillshare:** Search for courses on jewelry making, specific techniques (e.g., silversmithing, wire wrapping, resin jewelry), and jewelry design.  They offer a wide variety of skill levels.\\n    * **Udemy:** Similar to Skillshare, Udemy offers numerous courses on jewelry making, CAD for jewelry design, and business aspects of running a jewelry business.\\n    * **CreativeLive:**  Known for high-quality video courses taught by industry professionals, often focusing on specific techniques and styles of jewelry making.\\n    * **Domestika:**  Features courses from international artists and designers, offering a global perspective on jewelry design and creation.\\n* **YouTube Channels:**  Many talented jewelers share tutorials on YouTube. Search for specific techniques or styles you're interested in (e.g., \\\"wire wrapping tutorial,\\\" \\\"how to make resin earrings\\\").\\n* **Books:**  Look for books on jewelry making techniques, design principles, and business strategies for running a jewelry business.\\n* **Workshops & Classes:**  Local community colleges, craft stores, and independent instructors often offer hands-on workshops. This is invaluable for learning practical skills.\\n\\n\\n**2. Graphic Designer:**\\n\\n* **Online Courses:**\\n    * **Coursera & edX:** Offer university-level courses in graphic design, often covering design principles, software proficiency (Adobe Creative Suite), and design history.  Look for courses from reputable universities.\\n    * **Skillshare & Udemy:**  Offer courses on specific software (Photoshop, Illustrator, InDesign), design styles (e.g., logo design, branding), and design principles.\\n    * **LinkedIn Learning:**  Provides professional development courses, including many focused on graphic design and relevant software.\\n* **Software Tutorials:**  Adobe offers extensive tutorials on their software through their website and YouTube channel.\\n* **Books:**  There are numerous books on graphic design principles, design history, and specific software applications.\\n* **Portfolio Building:**  Crucial for graphic designers.  Start creating a portfolio of your work early in your learning process.\\n\\n\\n**3. Art Therapist:**\\n\\n* **University Programs:**  Art therapy requires a master's degree.  Research universities offering Master's in Art Therapy programs accredited by the Art Therapy Credentials Board (ATCB).\\n* **Online Courses (Supplemental):**  While a master's degree is necessary, online courses can supplement your learning in areas like psychology, counseling techniques, and specific art therapy modalities.  Look for courses on platforms like Coursera or edX that relate to these areas.\\n* **Books:**  Explore books on art therapy techniques, theories, and ethical practice.\\n* **Supervised Practice:**  A crucial component of art therapy education is supervised practice, which is integral to the master's degree programs.\\n\\n\\n**General Resources for All Three Careers:**\\n\\n* **Pinterest:** Excellent for visual inspiration and finding examples of different styles and techniques.\\n* **Instagram:** Follow artists and designers in your chosen field for inspiration and to learn about their process.\\n* **Local Art Communities:**  Joining local art groups or guilds can provide networking opportunities, mentorship, and access to workshops and resources.\\n\\n\\nRemember to focus your learning on the specific aspects of each career that interest you most. For example, if you're interested in jewelry making, you might start by learning basic wire wrapping techniques before moving on to more advanced silversmithing skills.  Similarly, for graphic design, focusing on logo design might be a good starting point.  Consistent practice and building a portfolio are key to success in all creative fields.\\n\"\n",
            "              }\n",
            "            ],\n",
            "            \"role\": \"model\"\n",
            "          },\n",
            "          \"finish_reason\": \"STOP\",\n",
            "          \"avg_logprobs\": -0.26680289374457467\n",
            "        }\n",
            "      ],\n",
            "      \"usage_metadata\": {\n",
            "        \"prompt_token_count\": 356,\n",
            "        \"candidates_token_count\": 792,\n",
            "        \"total_token_count\": 1148\n",
            "      },\n",
            "      \"model_version\": \"gemini-1.5-flash-latest\"\n",
            "    }),\n",
            ")\n",
            "\n",
            "--- Career Counselling Results ---\n",
            "\n",
            "INTERESTS:\n",
            "N/A\n",
            "\n",
            "PERSONALITY:\n",
            "N/A\n",
            "\n",
            "CAREERS:\n",
            "N/A\n",
            "\n",
            "RESOURCES:\n",
            "N/A\n"
          ]
        }
      ]
    },
    {
      "cell_type": "code",
      "metadata": {
        "colab": {
          "base_uri": "https://localhost:8080/",
          "height": 746
        },
        "collapsed": true,
        "id": "cfd429be",
        "outputId": "8428ab4d-5d1f-445c-db46-6272f359aead"
      },
      "source": [
        "for m in genai.list_models():\n",
        "  if 'generateContent' in m.supported_generation_methods:\n",
        "    print(m.name)"
      ],
      "execution_count": null,
      "outputs": [
        {
          "output_type": "stream",
          "name": "stdout",
          "text": [
            "models/gemini-1.0-pro-vision-latest\n",
            "models/gemini-pro-vision\n",
            "models/gemini-1.5-pro-latest\n",
            "models/gemini-1.5-pro-002\n",
            "models/gemini-1.5-pro\n",
            "models/gemini-1.5-flash-latest\n",
            "models/gemini-1.5-flash\n",
            "models/gemini-1.5-flash-002\n",
            "models/gemini-1.5-flash-8b\n",
            "models/gemini-1.5-flash-8b-001\n",
            "models/gemini-1.5-flash-8b-latest\n",
            "models/gemini-2.5-pro-preview-03-25\n",
            "models/gemini-2.5-flash-preview-05-20\n",
            "models/gemini-2.5-flash\n",
            "models/gemini-2.5-flash-lite-preview-06-17\n",
            "models/gemini-2.5-pro-preview-05-06\n",
            "models/gemini-2.5-pro-preview-06-05\n",
            "models/gemini-2.5-pro\n",
            "models/gemini-2.0-flash-exp\n",
            "models/gemini-2.0-flash\n",
            "models/gemini-2.0-flash-001\n",
            "models/gemini-2.0-flash-exp-image-generation\n",
            "models/gemini-2.0-flash-lite-001\n",
            "models/gemini-2.0-flash-lite\n",
            "models/gemini-2.0-flash-preview-image-generation\n",
            "models/gemini-2.0-flash-lite-preview-02-05\n",
            "models/gemini-2.0-flash-lite-preview\n",
            "models/gemini-2.0-pro-exp\n",
            "models/gemini-2.0-pro-exp-02-05\n",
            "models/gemini-exp-1206\n",
            "models/gemini-2.0-flash-thinking-exp-01-21\n",
            "models/gemini-2.0-flash-thinking-exp\n",
            "models/gemini-2.0-flash-thinking-exp-1219\n",
            "models/gemini-2.5-flash-preview-tts\n",
            "models/gemini-2.5-pro-preview-tts\n",
            "models/learnlm-2.0-flash-experimental\n",
            "models/gemma-3-1b-it\n",
            "models/gemma-3-4b-it\n",
            "models/gemma-3-12b-it\n",
            "models/gemma-3-27b-it\n",
            "models/gemma-3n-e4b-it\n",
            "models/gemma-3n-e2b-it\n"
          ]
        }
      ]
    }
  ]
}